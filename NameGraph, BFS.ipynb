{
 "cells": [
  {
   "cell_type": "markdown",
   "metadata": {},
   "source": [
    "#Degrees of Separation\n",
    "##Developing a graph representation of name relationships + BFS\n",
    "\n",
    "On 23andme.com, you can get info on other DNA relatives of yours who have also signed up on 23andMe. 23andMe provides a csv filed, with all relatives above some threshold of genetic similarity. I have 838 \"DNA relatives\" with whom I share at least 0.14% DNA (at least according to 23andme)."
   ]
  },
  {
   "cell_type": "code",
   "execution_count": 1,
   "metadata": {
    "collapsed": false
   },
   "outputs": [],
   "source": [
    "import pandas as pd\n",
    "my_rel = pd.read_csv('relative_finder_ME.csv')"
   ]
  },
  {
   "cell_type": "code",
   "execution_count": 2,
   "metadata": {
    "collapsed": false
   },
   "outputs": [
    {
     "data": {
      "text/plain": [
       "831    Andersen, Teer, Zell, Ostbye, Lamb, Roe, Surbe...\n",
       "839             horstman, nussbeck, lamont, boyd, harris\n",
       "Name: Family Surnames, dtype: object"
      ]
     },
     "execution_count": 2,
     "metadata": {},
     "output_type": "execute_result"
    }
   ],
   "source": [
    "my_fam_names ='horstman, nussbeck, lamont, boyd, harris'\n",
    "#omitting Smith cause it is way too common\n",
    "my_rel.ix[len(my_rel),'Family Surnames']= my_fam_names\n",
    "rows = my_rel['Family Surnames'].dropna()\n",
    "rows.tail(2)"
   ]
  },
  {
   "cell_type": "markdown",
   "metadata": {},
   "source": [
    "# Data Cleanup\n",
    "People can voluntarily provide genealogical info, such as Family Surnames.  Unfortunately, this data is quite messy, so I first clean it up a bit."
   ]
  },
  {
   "cell_type": "code",
   "execution_count": 3,
   "metadata": {
    "collapsed": false
   },
   "outputs": [
    {
     "name": "stdout",
     "output_type": "stream",
     "text": [
      "fall\n",
      "miller\n",
      "rhodes\n",
      "rhode\n",
      "seal\n",
      "stefano\n"
     ]
    }
   ],
   "source": [
    "import re\n",
    "\n",
    "def _stripstr(s):\n",
    "    s2 = re.sub(r',|\\(|\\)|&|father=|/|-|[\\s,]du\\s|[\\s,]de\\s|[\\s,]di\\s|^\\w\\s|\\s\\w\\s|paternal|maternal|\\sjr[\\s\\.,]|jr$', r' ',s.lower())\n",
    "    return s2\n",
    "def _stripword(s):\n",
    "    \"\"\"This function removes non-letter characters from a word\n",
    "    \n",
    "    for example _strip('Hi there!') == 'Hi there'\n",
    "    \"\"\"\n",
    "    return re.sub(r'[\\s\\W_]+','', s)\n",
    "\n",
    "## NEED TO CHECK, make sure this isn't screwing up Swedish letters\n",
    "# test my the text cleaning\n",
    "s= '(Fall), Paternal & s  Miller-Rhodes, Rhode Jr, Seal Jr. , di Stefano Jr'\n",
    "for word in _stripstr(s).split():\n",
    "    print _stripword(word)"
   ]
  },
  {
   "cell_type": "markdown",
   "metadata": {},
   "source": [
    "#Setting up the NameGraph\n",
    "(Implemented as a dict of lists)\n",
    "Each family surname represents a possible edge between two \"rows.\"\n",
    "We use a set of edges to avoid redundant edges.\n",
    "For now I'll ignore complications such as spelling differences or the fact that two people with same surname may be unrelated. \n",
    "\n",
    "**I'll define two people as linked if they share a surname from their 'family surnames' list.**  This will define a graph.  In this project, I want to see who I am \"connected\" to in this graph.  The data is small enough that I can represent the graph with a \n"
   ]
  },
  {
   "cell_type": "code",
   "execution_count": 4,
   "metadata": {
    "collapsed": false
   },
   "outputs": [],
   "source": [
    "from collections import defaultdict, Counter\n",
    "\n",
    "namelist_dict = defaultdict(list)\n",
    "namecount_dict = Counter()\n",
    "edges = set({})\n",
    "\n",
    "ncomp = 0\n",
    "for (idx,v) in rows.iteritems():\n",
    "    for word in _stripstr(v).split():\n",
    "        ncomp +=1\n",
    "        key = _stripword(word)\n",
    "        namecount_dict[key]+=1\n",
    "        if namecount_dict[key] > 1:\n",
    "            for otheridx in namelist_dict[key]:\n",
    "                if otheridx != idx:\n",
    "                    edges.add( (otheridx,idx) )\n",
    "                    edges.add( (idx,otheridx) )\n",
    "        namelist_dict[key].append(idx)\n",
    "    \n",
    "# should be of order V+E\n",
    "#print ncomp\n",
    "#print len(edges) + len(rows)"
   ]
  },
  {
   "cell_type": "code",
   "execution_count": 5,
   "metadata": {
    "collapsed": false
   },
   "outputs": [
    {
     "name": "stdout",
     "output_type": "stream",
     "text": [
      "17\n",
      "4\n"
     ]
    }
   ],
   "source": [
    "# How many of my relatives give Smith as a family surname ?\n",
    "print namecount_dict['smith']\n",
    "print namecount_dict['yoder']"
   ]
  },
  {
   "cell_type": "code",
   "execution_count": 6,
   "metadata": {
    "collapsed": false
   },
   "outputs": [],
   "source": [
    "#given the set of edges above, it is simple to create the NameGraph\n",
    "NameGraph = defaultdict(list)\n",
    "for (a,b) in edges:\n",
    "    NameGraph[a].append(b)"
   ]
  },
  {
   "cell_type": "code",
   "execution_count": 7,
   "metadata": {
    "collapsed": false
   },
   "outputs": [
    {
     "name": "stdout",
     "output_type": "stream",
     "text": [
      "[554, 433, 168, 766, 9, 558, 1, 730, 542, 0]\n",
      "horstman, nussbeck, lamont, boyd, harris\n"
     ]
    }
   ],
   "source": [
    "#I am 839.  Which people am I directly linked (by family surnames)?\n",
    "print NameGraph[839]\n",
    "print rows.ix[839]"
   ]
  },
  {
   "cell_type": "markdown",
   "metadata": {},
   "source": [
    "#Time for Breadth First Search!\n",
    "I adapted this using code from MIT opencourseware :)"
   ]
  },
  {
   "cell_type": "code",
   "execution_count": 8,
   "metadata": {
    "collapsed": true
   },
   "outputs": [],
   "source": [
    "from collections import deque\n",
    "\n",
    "class BFSresult:\n",
    "    def __init__(self):\n",
    "        self.level = {}\n",
    "        self.parent = {}\n",
    "\n",
    "def bfs(g,s):\n",
    "    \n",
    "    r = BFSresult()\n",
    "    r.level = {s: 0}\n",
    "    r.parent = {s: None}\n",
    "    \n",
    "    q = deque()\n",
    "    q.append(s)\n",
    "    \n",
    "    while q:\n",
    "        u = q.popleft()\n",
    "        for n in g[u]:\n",
    "            if n not in r.parent:\n",
    "                r.parent[n] = u\n",
    "                r.level[n] = r.level[u] + 1\n",
    "                q.append(n)\n",
    "    return r\n",
    "                \n",
    "    "
   ]
  },
  {
   "cell_type": "code",
   "execution_count": 9,
   "metadata": {
    "collapsed": false
   },
   "outputs": [
    {
     "data": {
      "text/plain": [
       "0      0.0229\n",
       "1      0.0150\n",
       "9      0.0039\n",
       "168    0.0025\n",
       "433    0.0018\n",
       "542    0.0017\n",
       "554    0.0016\n",
       "558    0.0016\n",
       "730    0.0015\n",
       "766    0.0015\n",
       "Name: DNAsim, dtype: float64"
      ]
     },
     "execution_count": 9,
     "metadata": {},
     "output_type": "execute_result"
    }
   ],
   "source": [
    "my_rel['degree_of_sep'] = pd.Series(bfs(NameGraph,839).level)\n",
    "\n",
    "my_rel['DNAsim'] = my_rel['DNA Shared'].replace('%','',regex=True).astype('float')/100\n",
    "my_rel[my_rel['degree_of_sep']==1].DNAsim"
   ]
  },
  {
   "cell_type": "code",
   "execution_count": 10,
   "metadata": {
    "collapsed": false
   },
   "outputs": [
    {
     "name": "stdout",
     "output_type": "stream",
     "text": [
      "0.0054\n",
      "0.00201870503597\n",
      "0.00189714285714\n"
     ]
    }
   ],
   "source": [
    "print my_rel[my_rel['degree_of_sep'] == 1].DNAsim.mean()\n",
    "print my_rel[my_rel['degree_of_sep'] == 2].DNAsim.mean()\n",
    "print my_rel[my_rel['degree_of_sep'] == 3].DNAsim.mean()"
   ]
  },
  {
   "cell_type": "markdown",
   "metadata": {},
   "source": [
    "#Next steps:\n",
    "1) Handling different spellings of the same name\n",
    "\n",
    "2) Giving the edges weights.   Common names should be worth less. Weights should take into consideration genetic relationship\n",
    "\n",
    "3) Dijkstra's Algorithm to find shortest paths (closest relatives)\n"
   ]
  }
 ],
 "metadata": {
  "kernelspec": {
   "display_name": "Python 2",
   "language": "python",
   "name": "python2"
  },
  "language_info": {
   "codemirror_mode": {
    "name": "ipython",
    "version": 2
   },
   "file_extension": ".py",
   "mimetype": "text/x-python",
   "name": "python",
   "nbconvert_exporter": "python",
   "pygments_lexer": "ipython2",
   "version": "2.7.10"
  }
 },
 "nbformat": 4,
 "nbformat_minor": 0
}
