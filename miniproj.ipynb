{
 "cells": [
  {
   "cell_type": "markdown",
   "metadata": {},
   "source": [
    "#23andMe\n",
    "Do my partner and I have any common relatives?"
   ]
  },
  {
   "cell_type": "code",
   "execution_count": 60,
   "metadata": {
    "collapsed": false
   },
   "outputs": [
    {
     "data": {
      "text/html": [
       "<div>\n",
       "<table border=\"1\" class=\"dataframe\">\n",
       "  <thead>\n",
       "    <tr style=\"text-align: right;\">\n",
       "      <th></th>\n",
       "      <th>Name</th>\n",
       "      <th>Sex</th>\n",
       "      <th>Birth Year</th>\n",
       "      <th>Relationship</th>\n",
       "      <th>Predicted Relationship</th>\n",
       "      <th>Predicted Range</th>\n",
       "      <th>DNA Shared</th>\n",
       "      <th>Segments Shared</th>\n",
       "      <th>Maternal Side</th>\n",
       "      <th>Paternal Side</th>\n",
       "      <th>Maternal Haplogroup</th>\n",
       "      <th>Paternal Haplogroup</th>\n",
       "      <th>Birthplace</th>\n",
       "      <th>Residence</th>\n",
       "      <th>Ancestry</th>\n",
       "      <th>Family Surnames</th>\n",
       "      <th>Family Locations</th>\n",
       "      <th>Notes</th>\n",
       "      <th>Sharing Status</th>\n",
       "      <th>Introduction Status</th>\n",
       "    </tr>\n",
       "  </thead>\n",
       "  <tbody>\n",
       "    <tr>\n",
       "      <th>21</th>\n",
       "      <td>NaN</td>\n",
       "      <td>Male</td>\n",
       "      <td>NaN</td>\n",
       "      <td>4th Cousin</td>\n",
       "      <td>4th Cousin</td>\n",
       "      <td>3rd to 5th Cousin</td>\n",
       "      <td>0.36%</td>\n",
       "      <td>3</td>\n",
       "      <td>NaN</td>\n",
       "      <td>NaN</td>\n",
       "      <td>H5a1</td>\n",
       "      <td>R1b1b2a1a2f*</td>\n",
       "      <td>NaN</td>\n",
       "      <td>NaN</td>\n",
       "      <td>NaN</td>\n",
       "      <td>NaN</td>\n",
       "      <td>NaN</td>\n",
       "      <td>NaN</td>\n",
       "      <td>NaN</td>\n",
       "      <td>NaN</td>\n",
       "    </tr>\n",
       "    <tr>\n",
       "      <th>22</th>\n",
       "      <td>NaN</td>\n",
       "      <td>Female</td>\n",
       "      <td>NaN</td>\n",
       "      <td>4th Cousin</td>\n",
       "      <td>4th Cousin</td>\n",
       "      <td>3rd to 5th Cousin</td>\n",
       "      <td>0.35%</td>\n",
       "      <td>2</td>\n",
       "      <td>NaN</td>\n",
       "      <td>NaN</td>\n",
       "      <td>C1b</td>\n",
       "      <td>NaN</td>\n",
       "      <td>NaN</td>\n",
       "      <td>NaN</td>\n",
       "      <td>NaN</td>\n",
       "      <td>NaN</td>\n",
       "      <td>NaN</td>\n",
       "      <td>NaN</td>\n",
       "      <td>NaN</td>\n",
       "      <td>NaN</td>\n",
       "    </tr>\n",
       "    <tr>\n",
       "      <th>23</th>\n",
       "      <td>NaN</td>\n",
       "      <td>Male</td>\n",
       "      <td>NaN</td>\n",
       "      <td>4th Cousin</td>\n",
       "      <td>4th Cousin</td>\n",
       "      <td>3rd to 5th Cousin</td>\n",
       "      <td>0.34%</td>\n",
       "      <td>2</td>\n",
       "      <td>NaN</td>\n",
       "      <td>NaN</td>\n",
       "      <td>V</td>\n",
       "      <td>R1a1a</td>\n",
       "      <td>Sweden</td>\n",
       "      <td>NaN</td>\n",
       "      <td>Northern Europe</td>\n",
       "      <td>Persson, Svensson, Brink, Jonsdotter, Norén, N...</td>\n",
       "      <td>Ljusdal; Sweden; Fryksände; Värmland; Färila; ...</td>\n",
       "      <td>NaN</td>\n",
       "      <td>NaN</td>\n",
       "      <td>NaN</td>\n",
       "    </tr>\n",
       "    <tr>\n",
       "      <th>24</th>\n",
       "      <td>NaN</td>\n",
       "      <td>Male</td>\n",
       "      <td>NaN</td>\n",
       "      <td>4th Cousin</td>\n",
       "      <td>4th Cousin</td>\n",
       "      <td>3rd to 5th Cousin</td>\n",
       "      <td>0.34%</td>\n",
       "      <td>2</td>\n",
       "      <td>NaN</td>\n",
       "      <td>NaN</td>\n",
       "      <td>H1</td>\n",
       "      <td>R1a1a</td>\n",
       "      <td>NaN</td>\n",
       "      <td>NaN</td>\n",
       "      <td>NaN</td>\n",
       "      <td>NaN</td>\n",
       "      <td>NaN</td>\n",
       "      <td>NaN</td>\n",
       "      <td>NaN</td>\n",
       "      <td>NaN</td>\n",
       "    </tr>\n",
       "  </tbody>\n",
       "</table>\n",
       "</div>"
      ],
      "text/plain": [
       "   Name     Sex  Birth Year Relationship Predicted Relationship  \\\n",
       "21  NaN    Male         NaN   4th Cousin             4th Cousin   \n",
       "22  NaN  Female         NaN   4th Cousin             4th Cousin   \n",
       "23  NaN    Male         NaN   4th Cousin             4th Cousin   \n",
       "24  NaN    Male         NaN   4th Cousin             4th Cousin   \n",
       "\n",
       "      Predicted Range DNA Shared  Segments Shared  Maternal Side  \\\n",
       "21  3rd to 5th Cousin      0.36%                3            NaN   \n",
       "22  3rd to 5th Cousin      0.35%                2            NaN   \n",
       "23  3rd to 5th Cousin      0.34%                2            NaN   \n",
       "24  3rd to 5th Cousin      0.34%                2            NaN   \n",
       "\n",
       "    Paternal Side Maternal Haplogroup Paternal Haplogroup Birthplace  \\\n",
       "21            NaN                H5a1        R1b1b2a1a2f*        NaN   \n",
       "22            NaN                 C1b                 NaN        NaN   \n",
       "23            NaN                   V               R1a1a     Sweden   \n",
       "24            NaN                  H1               R1a1a        NaN   \n",
       "\n",
       "   Residence         Ancestry  \\\n",
       "21       NaN              NaN   \n",
       "22       NaN              NaN   \n",
       "23       NaN  Northern Europe   \n",
       "24       NaN              NaN   \n",
       "\n",
       "                                      Family Surnames  \\\n",
       "21                                                NaN   \n",
       "22                                                NaN   \n",
       "23  Persson, Svensson, Brink, Jonsdotter, Norén, N...   \n",
       "24                                                NaN   \n",
       "\n",
       "                                     Family Locations  Notes Sharing Status  \\\n",
       "21                                                NaN    NaN            NaN   \n",
       "22                                                NaN    NaN            NaN   \n",
       "23  Ljusdal; Sweden; Fryksände; Värmland; Färila; ...    NaN            NaN   \n",
       "24                                                NaN    NaN            NaN   \n",
       "\n",
       "   Introduction Status  \n",
       "21                 NaN  \n",
       "22                 NaN  \n",
       "23                 NaN  \n",
       "24                 NaN  "
      ]
     },
     "execution_count": 60,
     "metadata": {},
     "output_type": "execute_result"
    }
   ],
   "source": [
    "import pandas as pd\n",
    "\n",
    "my_rel = pd.read_csv('relative_finder_ME.csv')\n",
    "gf_rel = pd.read_csv('relative_finder_GF.csv')\n",
    "my_rel[21:25]"
   ]
  },
  {
   "cell_type": "markdown",
   "metadata": {},
   "source": [
    "\n",
    "23andMe doesn't give unique identifiers, so I have to try to craft combinations of fields\n",
    "which uniquely identify people, and which can be matched on GF's set of relatives."
   ]
  },
  {
   "cell_type": "code",
   "execution_count": 61,
   "metadata": {
    "collapsed": true
   },
   "outputs": [],
   "source": [
    "# don't use fields which depend on relationship to me\n",
    "id_fields = ['Name', 'Sex', 'Birth Year', 'Maternal Haplogroup',\n",
    "             'Paternal Haplogroup', 'Birthplace',\n",
    "             'Residence', 'Ancestry', 'Family Surnames', 'Family Locations']\n"
   ]
  },
  {
   "cell_type": "markdown",
   "metadata": {},
   "source": [
    "#Check for and Remove Duplicated Rows\n",
    "Some of the rows will have substantial missing values-- when people don't share info in the id_fields.\n",
    "This will lead to indistinguishable rows. Pandas drop_duplicates doesn't quite do the job, cause I want to get rid of not only duplicates, but the rows which are duplicated (which are likely to lead to false positive matches)."
   ]
  },
  {
   "cell_type": "code",
   "execution_count": 62,
   "metadata": {
    "collapsed": false
   },
   "outputs": [
    {
     "name": "stdout",
     "output_type": "stream",
     "text": [
      "676\n",
      "304\n"
     ]
    }
   ],
   "source": [
    "# using fillna because groupby doesn't play well with NaN\n",
    "my_rel = my_rel.fillna(-1).groupby(id_fields).filter(lambda x: len(x)==1)\n",
    "print len(my_rel)\n",
    "\n",
    "gf_rel = gf_rel.fillna(-1).groupby(id_fields).filter(lambda x: len(x)==1)\n",
    "print len(gf_rel)"
   ]
  },
  {
   "cell_type": "markdown",
   "metadata": {},
   "source": [
    "# Find matches"
   ]
  },
  {
   "cell_type": "code",
   "execution_count": 58,
   "metadata": {
    "collapsed": false
   },
   "outputs": [
    {
     "name": "stdout",
     "output_type": "stream",
     "text": [
      "  Name     Sex  Birth Year Maternal Haplogroup Paternal Haplogroup Birthplace  \\\n",
      "0   -1  Female          -1                  B2                  -1         -1   \n",
      "\n",
      "  Residence Ancestry Family Surnames Family Locations  \n",
      "0        -1       -1              -1               -1  \n"
     ]
    }
   ],
   "source": [
    "matches = pd.merge(my_rel,gf_rel,on=id_fields)\n",
    "print matches[id_fields]"
   ]
  },
  {
   "cell_type": "markdown",
   "metadata": {},
   "source": [
    "Likely a false positive!"
   ]
  },
  {
   "cell_type": "code",
   "execution_count": null,
   "metadata": {
    "collapsed": true
   },
   "outputs": [],
   "source": []
  }
 ],
 "metadata": {
  "kernelspec": {
   "display_name": "Python 2",
   "language": "python",
   "name": "python2"
  },
  "language_info": {
   "codemirror_mode": {
    "name": "ipython",
    "version": 2
   },
   "file_extension": ".py",
   "mimetype": "text/x-python",
   "name": "python",
   "nbconvert_exporter": "python",
   "pygments_lexer": "ipython2",
   "version": "2.7.10"
  }
 },
 "nbformat": 4,
 "nbformat_minor": 0
}
