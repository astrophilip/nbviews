{
 "cells": [
  {
   "cell_type": "markdown",
   "metadata": {},
   "source": [
    "#Developing a graph representation of name relationships \n",
    "\n",
    "On 23andme.com, you can get info on other DNA relatives of yours who have also signed up on 23andMe. 23andMe provides a csv filed, with all relatives above some threshold of genetic similarity. I have 838 \"DNA relatives\" with whom I share at least 0.14% DNA (at least according to 23andme).\n"
   ]
  },
  {
   "cell_type": "code",
   "execution_count": 1,
   "metadata": {
    "collapsed": false
   },
   "outputs": [
    {
     "name": "stdout",
     "output_type": "stream",
     "text": [
      "0    Sahlstrom, Horstman, Horstmann, Astrom, Hass, ...\n",
      "1    wolf, hoff, hartzell, spangler, hamilton, boyd...\n",
      "2    Tucker, Yowell, Schroeder, Loudermilk, Elliott...\n",
      "3    Barnes, Baker, Belknap, Bemis, Blakeslee, Carl...\n",
      "5                                    york, duffy, York\n",
      "Name: Family Surnames, dtype: object\n"
     ]
    }
   ],
   "source": [
    "import pandas as pd\n",
    "my_rel = pd.read_csv('relative_finder_ME.csv')\n",
    "rows = my_rel['Family Surnames'].dropna()\n",
    "print rows.head()\n",
    "my_fam_names =['horstman','nussbeck','lamont','boyd','harris'] \n",
    "# omitting smith cause it is way too common"
   ]
  },
  {
   "cell_type": "markdown",
   "metadata": {},
   "source": [
    "People can voluntarily provide genealogical info, such as Family Surnames.  Unfortunately, this data is quite messy, so I first clean it up a bit.  For now I'll ignore complications such as spelling differences or family relationships or the fact that two people with same surname may be unrelated. \n",
    "**I'll define two people (rows in the above df) as neighbors if they share a surname from their 'family surnames' list.**  This will define a graph.  In this project, I want to see who I am \"connected\" to in this graph.  The data is small enough that I can represent the graph with a \n",
    "\n",
    "\n",
    "# Data Cleanup"
   ]
  },
  {
   "cell_type": "code",
   "execution_count": 24,
   "metadata": {
    "collapsed": false
   },
   "outputs": [],
   "source": [
    "import re\n",
    "\n",
    "def _stripstr(s):\n",
    "    s2 = re.sub(r',|\\(|\\)|&|father=|/|-|[\\s,]du\\s|[\\s,]de\\s|[\\s,]di\\s|^\\w\\s|\\s\\w\\s|paternal|maternal|\\sjr[\\s\\.,]|jr$', r' ',s.lower())\n",
    "    return s2\n",
    "def _stripword(s):\n",
    "    \"\"\"This function removes non-letter characters from a word\n",
    "    \n",
    "    for example _strip('Hi there!') == 'Hi there'\n",
    "    \"\"\"\n",
    "    return re.sub(r'[\\s\\W_]+','', s)\n",
    "\n",
    "## To check, make sure this isn't screwing up Swedish letters"
   ]
  },
  {
   "cell_type": "code",
   "execution_count": 47,
   "metadata": {
    "collapsed": false
   },
   "outputs": [
    {
     "name": "stdout",
     "output_type": "stream",
     "text": [
      "fall\n",
      "miller\n",
      "rhodes\n",
      "rhode\n",
      "seal\n",
      "sejrale\n",
      "stefano\n"
     ]
    }
   ],
   "source": [
    "# test my the text cleaning\n",
    "s= '(Fall), Paternal & s  Miller-Rhodes, Rhode Jr, Seal Jr. (SeJrale), di Stefano Jr'\n",
    "for word in _stripstr(s).split():\n",
    "    print _stripword(word)"
   ]
  },
  {
   "cell_type": "markdown",
   "metadata": {},
   "source": [
    "#Setting up the NameGraph\n",
    "(Implemented as a dict of lists)\n",
    "Each family surname represents a possible edge between two \"rows.\"\n",
    "We use a set of edges to avoid redundant edges.\n"
   ]
  },
  {
   "cell_type": "code",
   "execution_count": 43,
   "metadata": {
    "collapsed": false
   },
   "outputs": [
    {
     "name": "stdout",
     "output_type": "stream",
     "text": [
      "2939\n",
      "3216\n"
     ]
    }
   ],
   "source": [
    "from collections import defaultdict, Counter\n",
    "\n",
    "namelist_dict = defaultdict(list)\n",
    "namecount_dict = Counter()\n",
    "edges = set({})\n",
    "\n",
    "ncomp = 0\n",
    "for (idx,v) in rows.iteritems():\n",
    "    for word in _stripstr(v).split():\n",
    "        ncomp +=1\n",
    "        key = _stripword(word)\n",
    "        namecount_dict[key]+=1\n",
    "        if namecount_dict[key] > 1:\n",
    "            for otheridx in namelist_dict[key]:\n",
    "                if otheridx != idx:\n",
    "                    edges.add( (otheridx,idx) )\n",
    "                    edges.add( (idx,otheridx) )\n",
    "        namelist_dict[key].append(idx)\n",
    "    \n",
    "# should be of order V+E\n",
    "print ncomp\n",
    "print len(edges) + len(rows)\n",
    "\n"
   ]
  },
  {
   "cell_type": "code",
   "execution_count": 28,
   "metadata": {
    "collapsed": false
   },
   "outputs": [],
   "source": [
    "NameGraph = defaultdict(list)\n",
    "for (a,b) in edges:\n",
    "    NameGraph[a].append(b)"
   ]
  },
  {
   "cell_type": "code",
   "execution_count": 48,
   "metadata": {
    "collapsed": false
   },
   "outputs": [
    {
     "name": "stdout",
     "output_type": "stream",
     "text": [
      "[533]\n",
      "york, duffy, York\n",
      "Allen, York, Bolstridge, Rand, Pelkey, Mahan, Clark, Burgess\n"
     ]
    }
   ],
   "source": [
    "print NameGraph[5]\n",
    "print rows.ix[5]\n",
    "print rows.ix[533]\n"
   ]
  },
  {
   "cell_type": "code",
   "execution_count": 45,
   "metadata": {
    "collapsed": false
   },
   "outputs": [
    {
     "data": {
      "text/plain": [
       "2181"
      ]
     },
     "execution_count": 45,
     "metadata": {},
     "output_type": "execute_result"
    }
   ],
   "source": []
  },
  {
   "cell_type": "code",
   "execution_count": null,
   "metadata": {
    "collapsed": true
   },
   "outputs": [],
   "source": []
  }
 ],
 "metadata": {
  "kernelspec": {
   "display_name": "Python 2",
   "language": "python",
   "name": "python2"
  },
  "language_info": {
   "codemirror_mode": {
    "name": "ipython",
    "version": 2
   },
   "file_extension": ".py",
   "mimetype": "text/x-python",
   "name": "python",
   "nbconvert_exporter": "python",
   "pygments_lexer": "ipython2",
   "version": "2.7.10"
  }
 },
 "nbformat": 4,
 "nbformat_minor": 0
}
